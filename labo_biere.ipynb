{
  "nbformat": 4,
  "nbformat_minor": 0,
  "metadata": {
    "colab": {
      "name": "labo_biere.ipynb",
      "provenance": [],
      "collapsed_sections": [
        "hPfE24Le7xDs"
      ],
      "include_colab_link": true
    },
    "kernelspec": {
      "name": "python3",
      "display_name": "Python 3"
    }
  },
  "cells": [
    {
      "cell_type": "markdown",
      "metadata": {
        "id": "view-in-github",
        "colab_type": "text"
      },
      "source": [
        "<a href=\"https://colab.research.google.com/github/TrickyTroll/labo_biere/blob/master/labo_biere.ipynb\" target=\"_parent\"><img src=\"https://colab.research.google.com/assets/colab-badge.svg\" alt=\"Open In Colab\"/></a>"
      ]
    },
    {
      "cell_type": "markdown",
      "metadata": {
        "id": "-CVH_7dm-WWi",
        "colab_type": "text"
      },
      "source": [
        "# Les imports"
      ]
    },
    {
      "cell_type": "code",
      "metadata": {
        "id": "E5WlvQPd-ETq",
        "colab_type": "code",
        "colab": {}
      },
      "source": [
        "import numpy as np\n",
        "from scipy.stats import linregress\n",
        "from matplotlib import pyplot as plt"
      ],
      "execution_count": 0,
      "outputs": []
    },
    {
      "cell_type": "markdown",
      "metadata": {
        "id": "PeEjFCeWI1dQ",
        "colab_type": "text"
      },
      "source": [
        "# Les donnés"
      ]
    },
    {
      "cell_type": "markdown",
      "metadata": {
        "id": "TbcY4rZyU-VA",
        "colab_type": "text"
      },
      "source": [
        "## Pour la masse volumique\n",
        "\n",
        "  \n",
        "\n",
        "*   **pourcentage volumique:** %v/v. entrez les valeurs entre les crochets. \n",
        "ex:\n",
        "\n",
        "\n",
        "```\n",
        "pourcentages_volumiques = np.array([1.3, 2.5, 3.8, 5.0, 6.3, 7.5, 10])\n",
        "```\n",
        "\n",
        "\n",
        "*   **masses_volumiques:** masses volumiques selons les pourcentages volumiques. \n",
        "ex:\n",
        "\n",
        "\n",
        "\n",
        "```\n",
        "np.array([0.9963, 0.9945, 0.9927, 0.991, 0.9893, 0.9878, 0.9847])\n",
        "```\n",
        "\n",
        "* **masse_pycno:** Masse du pycnomètre (en grammes).\n",
        "\n",
        "* **masse_pycno_eau:** Masse du pycnomètre et de l'eau (en grammes).\n",
        "\n",
        "* **masse_pycno_ethanol:** Masse du pycnomètre et de l'échantillon (en grammes).\n",
        "\n",
        "* **masseVolumique_eau:** Masse volumique de l'eau à la température mesurée (en g/cm^3).\n",
        "\n",
        "* **delta_masseVolumique_eau:** Incertitude sur la masse volumique de l'eau.\n",
        "\n",
        "* **delta_balance:** Incertitude sur la balance analytique (en grammes).\n",
        "\n"
      ]
    },
    {
      "cell_type": "code",
      "metadata": {
        "id": "o252ldT2X_Fm",
        "colab_type": "code",
        "colab": {}
      },
      "source": [
        "pourcentages_volumiques = np.array([1,2,3])\n",
        "masses_volumiques = np.array([1,2,3])\n",
        "masse_pycno = 0\n",
        "masse_pycno_eau = 0\n",
        "masse_pycno_ethanol = 0\n",
        "masseVolumique_eau = 0\n",
        "delta_masseVolumique_eau = 0\n",
        "delta_balance = 0"
      ],
      "execution_count": 0,
      "outputs": []
    },
    {
      "cell_type": "markdown",
      "metadata": {
        "id": "w_A-LezlYPX-",
        "colab_type": "text"
      },
      "source": [
        "## Pour l'indice de réfraction\n",
        "\n",
        "* **volume_pourcent:** %v/v. Entrez les valeurs entre les crochets.\n",
        "ex:\n",
        "\n",
        "\n",
        "```\n",
        "volume_pourcent = np.array([3, 5, 6, 8, 10])\n",
        "```\n",
        "* **nD_raw:** Liste des listes d'indices de réfraction non-corrigés. Chaque paire de crochets correspond à un pourcentage volumique.\n",
        "ex:\n",
        "\n",
        "\n",
        "```\n",
        "nD_raw = [[1.3340, 1.33], [1.3353, 1.3353], [1.3356,1.3355], [1.3370,1.3373], [1.3380, 1.3380]]\n",
        "\n",
        "```\n",
        "* **temp:** Liste de listes de températures pour chaque indices de réfraction. Chaque paire de crochets correspond à un pourcentage volumique.\n",
        "ex:\n",
        "\n",
        "\n",
        "```\n",
        "temp = [[21.2, 20.8], [21.1, 21], [21.9, 20.8], [21.2,21.5], [22,21.9]]\n",
        "\n",
        "```\n",
        "* **indice_echantillon:** Indice de réfraction de l'échantillon.\n",
        "* **temp_echantillon:** Température à laquelle l'indice de réfraction a été mesuré.\n",
        "* **delta_refractometre:** Incertitude sur l'indice de réfraction.\n",
        "* **delta_temp_refractometre:** Incertitude sur la température mesurée par le réfractomètre.\n",
        "\n",
        "\n",
        "\n",
        "\n",
        "\n"
      ]
    },
    {
      "cell_type": "code",
      "metadata": {
        "id": "AzeZH1iOZ4AC",
        "colab_type": "code",
        "colab": {}
      },
      "source": [
        "volume_pourcent = np.array([1,2,3,4,5])\n",
        "nD_raw = [[1,2], [1,2], [1,2], [1,2], [1,2]]\n",
        "temp = [[1,2], [1,2], [1,2], [1,2], [1,2]]\n",
        "indice_echantillon = 0\n",
        "temp_echantillon = 0\n",
        "delta_refractometre = 0\n",
        "delta_temp_refractometre = 0"
      ],
      "execution_count": 0,
      "outputs": []
    },
    {
      "cell_type": "markdown",
      "metadata": {
        "id": "-OWMGItu-aDl",
        "colab_type": "text"
      },
      "source": [
        "# Indice de réfraction"
      ]
    },
    {
      "cell_type": "markdown",
      "metadata": {
        "id": "RF4RKEDWA0P9",
        "colab_type": "text"
      },
      "source": [
        "##Calcul des nD corriges"
      ]
    },
    {
      "cell_type": "markdown",
      "metadata": {
        "id": "vFAD68nux2nQ",
        "colab_type": "text"
      },
      "source": [
        "Correction des indices de réfraction. Le programme lit toutes les valeurs de la liste nD_raw et fait le calcul suivant: \n",
        "$nD_{corrige}= nD_{initial} + 0.00045 \\times (temp-20)$"
      ]
    },
    {
      "cell_type": "code",
      "metadata": {
        "id": "5j8WHGA5BCvA",
        "colab_type": "code",
        "colab": {}
      },
      "source": [
        "nD_corrige = []"
      ],
      "execution_count": 0,
      "outputs": []
    },
    {
      "cell_type": "code",
      "metadata": {
        "id": "HAcgstQBBUEc",
        "colab_type": "code",
        "colab": {}
      },
      "source": [
        "index = 0\n",
        "for values in nD_raw:\n",
        "  corrige_0 = values[0] + 0.00045*((temp[index])[0]- 20)\n",
        "  corrige_1 = values[1] + 0.00045*((temp[index])[1]- 20)\n",
        "  nD_corrige.append([corrige_0, corrige_1])\n",
        "  index += 1"
      ],
      "execution_count": 0,
      "outputs": []
    },
    {
      "cell_type": "markdown",
      "metadata": {
        "id": "mAQv0PiBygDP",
        "colab_type": "text"
      },
      "source": [
        "**Les indices corrigés:**"
      ]
    },
    {
      "cell_type": "code",
      "metadata": {
        "id": "WQlXsQLlCoV5",
        "colab_type": "code",
        "colab": {
          "base_uri": "https://localhost:8080/",
          "height": 102
        },
        "outputId": "8d91f6f6-6579-479d-ce09-7225fa4b51e0"
      },
      "source": [
        "nD_corrige"
      ],
      "execution_count": 61,
      "outputs": [
        {
          "output_type": "execute_result",
          "data": {
            "text/plain": [
              "[[0.99145, 1.9919],\n",
              " [0.99145, 1.9919],\n",
              " [0.99145, 1.9919],\n",
              " [0.99145, 1.9919],\n",
              " [0.99145, 1.9919]]"
            ]
          },
          "metadata": {
            "tags": []
          },
          "execution_count": 61
        }
      ]
    },
    {
      "cell_type": "markdown",
      "metadata": {
        "id": "kVVk_3NnAYut",
        "colab_type": "text"
      },
      "source": [
        "## Moyenne pour chacun des pourcentages volumiques"
      ]
    },
    {
      "cell_type": "markdown",
      "metadata": {
        "id": "HZ0q5rHryr73",
        "colab_type": "text"
      },
      "source": [
        "Moyenne par température. Le programme fait la moyenne de chaque liste en faisant:\n",
        "$ moyenne = \\frac{valeur_1 \\times valeur_2}{2} $"
      ]
    },
    {
      "cell_type": "code",
      "metadata": {
        "id": "LRfy4iaQA9ni",
        "colab_type": "code",
        "colab": {}
      },
      "source": [
        "nD_moy = []"
      ],
      "execution_count": 0,
      "outputs": []
    },
    {
      "cell_type": "code",
      "metadata": {
        "id": "MTb7JRRUAhSu",
        "colab_type": "code",
        "colab": {
          "base_uri": "https://localhost:8080/",
          "height": 34
        },
        "outputId": "538b54ab-9916-4b60-e7fd-85a268ee92d5"
      },
      "source": [
        "for values in nD_corrige:\n",
        "  moyenne = (values[0]+values[1])/2\n",
        "  nD_moy.append(moyenne)\n",
        "nD_moy"
      ],
      "execution_count": 63,
      "outputs": [
        {
          "output_type": "execute_result",
          "data": {
            "text/plain": [
              "[1.491675, 1.491675, 1.491675, 1.491675, 1.491675]"
            ]
          },
          "metadata": {
            "tags": []
          },
          "execution_count": 63
        }
      ]
    },
    {
      "cell_type": "markdown",
      "metadata": {
        "id": "SDxkHN9Gkn9A",
        "colab_type": "text"
      },
      "source": [
        "## Graphique de l'indice de réfraction"
      ]
    },
    {
      "cell_type": "markdown",
      "metadata": {
        "id": "SGMVop2clHuL",
        "colab_type": "text"
      },
      "source": [
        "### Donnés"
      ]
    },
    {
      "cell_type": "markdown",
      "metadata": {
        "id": "iFmqmOCrzvTd",
        "colab_type": "text"
      },
      "source": [
        "Création des axes des x et y."
      ]
    },
    {
      "cell_type": "code",
      "metadata": {
        "id": "YXDlExqjC9em",
        "colab_type": "code",
        "colab": {}
      },
      "source": [
        "x = np.array(volume_pourcent)\n",
        "y = np.array(nD_moy)"
      ],
      "execution_count": 0,
      "outputs": []
    },
    {
      "cell_type": "markdown",
      "metadata": {
        "id": "pTGVYuARljWE",
        "colab_type": "text"
      },
      "source": [
        "### Equation de la droite"
      ]
    },
    {
      "cell_type": "markdown",
      "metadata": {
        "id": "osXA-O5Hz_f7",
        "colab_type": "text"
      },
      "source": [
        "Calcul de l'équation de la pente. Il est possible d'appeler n'importe laquelle de ces valeurs."
      ]
    },
    {
      "cell_type": "code",
      "metadata": {
        "id": "CpkNVWEPlrx6",
        "colab_type": "code",
        "colab": {
          "base_uri": "https://localhost:8080/",
          "height": 139
        },
        "outputId": "26fe6389-fba3-4804-aa8f-9b8a1b791a7a"
      },
      "source": [
        "z, cov = np.polyfit(x,y,1,cov=True)\n",
        "n = len(y)\n",
        "dofreedom = n-2\n",
        "p = np.poly1d(z)\n",
        "yp = p(x)\n",
        "slope = z[0]\n",
        "intercept = z[1]\n",
        "r2 = np.corrcoef(x,y)[0][1]**2\n",
        "regression_ss = np.sum( (yp-np.mean(y))**2)\n",
        "residual_ss = np.sum( (y-yp)**2 )\n",
        "slope_pm = np.sqrt(residual_ss / (dofreedom*np.sum((x-np.mean(x))**2)))\n",
        "intercept_pm = slope_pm*np.sqrt(np.sum(x**2)/n)\n",
        "s = np.sqrt(residual_ss/dofreedom)\n",
        "F = regression_ss/s**2"
      ],
      "execution_count": 65,
      "outputs": [
        {
          "output_type": "stream",
          "text": [
            "/usr/local/lib/python3.6/dist-packages/numpy/lib/function_base.py:2534: RuntimeWarning: invalid value encountered in true_divide\n",
            "  c /= stddev[:, None]\n",
            "/usr/local/lib/python3.6/dist-packages/numpy/lib/function_base.py:2535: RuntimeWarning: invalid value encountered in true_divide\n",
            "  c /= stddev[None, :]\n",
            "/usr/local/lib/python3.6/dist-packages/ipykernel_launcher.py:14: RuntimeWarning: invalid value encountered in double_scalars\n",
            "  \n"
          ],
          "name": "stderr"
        }
      ]
    },
    {
      "cell_type": "markdown",
      "metadata": {
        "id": "KchcK8EF0Ns-",
        "colab_type": "text"
      },
      "source": [
        "Pente, b, erreur sur la pente, erreur sur b, r²"
      ]
    },
    {
      "cell_type": "code",
      "metadata": {
        "id": "HaNtP7LAmBAw",
        "colab_type": "code",
        "colab": {
          "base_uri": "https://localhost:8080/",
          "height": 34
        },
        "outputId": "8df831aa-74b3-44f3-ed03-616e0c5ee24a"
      },
      "source": [
        "slope, intercept, intercept_pm, r2"
      ],
      "execution_count": 66,
      "outputs": [
        {
          "output_type": "execute_result",
          "data": {
            "text/plain": [
              "(-4.847133654251431e-18, 1.491675, 0.0, nan)"
            ]
          },
          "metadata": {
            "tags": []
          },
          "execution_count": 66
        }
      ]
    },
    {
      "cell_type": "markdown",
      "metadata": {
        "id": "eagOGJ8KpBKb",
        "colab_type": "text"
      },
      "source": [
        "### Donnés utiles aux calculs"
      ]
    },
    {
      "cell_type": "code",
      "metadata": {
        "id": "X-qELAJrpETk",
        "colab_type": "code",
        "colab": {}
      },
      "source": [
        "a_refraction = slope\n",
        "b_refraction = intercept\n",
        "delta_a_refraction = slope_pm\n",
        "delta_b_refraction = intercept_pm"
      ],
      "execution_count": 0,
      "outputs": []
    },
    {
      "cell_type": "markdown",
      "metadata": {
        "id": "krcHuTj9mpeB",
        "colab_type": "text"
      },
      "source": [
        "## Calculs à partir de l'indice de réfraction"
      ]
    },
    {
      "cell_type": "markdown",
      "metadata": {
        "id": "6LL1WL61tyBc",
        "colab_type": "text"
      },
      "source": [
        "Il faut corriger à 20 degrés l'indice de réfraction:\n",
        "$nD_{corrigé} = nD_{echantillon}+0.00045\\times(T-20)$"
      ]
    },
    {
      "cell_type": "code",
      "metadata": {
        "id": "-lwE7Oljt6jm",
        "colab_type": "code",
        "colab": {
          "base_uri": "https://localhost:8080/",
          "height": 34
        },
        "outputId": "8b56e247-37d9-4d9f-f748-75cc277b0165"
      },
      "source": [
        "indice_echantillon_corrige = indice_echantillon+.00045*(22.2 - 20)\n",
        "indice_echantillon_corrige"
      ],
      "execution_count": 68,
      "outputs": [
        {
          "output_type": "execute_result",
          "data": {
            "text/plain": [
              "0.0009899999999999996"
            ]
          },
          "metadata": {
            "tags": []
          },
          "execution_count": 68
        }
      ]
    },
    {
      "cell_type": "markdown",
      "metadata": {
        "id": "N3WP4kYEo6cZ",
        "colab_type": "text"
      },
      "source": [
        "Détermination du pourcentage d'alcool dans la bière par la méthode de l'indice de réfraction:\n",
        "\n",
        "$\\%v/v = \\frac{(indice -b)}{m}$\n"
      ]
    },
    {
      "cell_type": "code",
      "metadata": {
        "id": "y7JSEwmHqGF6",
        "colab_type": "code",
        "colab": {
          "base_uri": "https://localhost:8080/",
          "height": 34
        },
        "outputId": "98d24aaa-b0c9-4c7c-ac51-1f9bb96f3bed"
      },
      "source": [
        "taux_refraction = (indice_echantillon_corrige-b_refraction)/a_refraction\n",
        "taux_refraction"
      ],
      "execution_count": 69,
      "outputs": [
        {
          "output_type": "execute_result",
          "data": {
            "text/plain": [
              "3.075394875263068e+17"
            ]
          },
          "metadata": {
            "tags": []
          },
          "execution_count": 69
        }
      ]
    },
    {
      "cell_type": "markdown",
      "metadata": {
        "id": "v3ks8dy2ub1R",
        "colab_type": "text"
      },
      "source": [
        "### Incertitudes sur le calcul de l'indice de réfraction"
      ]
    },
    {
      "cell_type": "code",
      "metadata": {
        "id": "1lLXmGz7uuDJ",
        "colab_type": "code",
        "colab": {
          "base_uri": "https://localhost:8080/",
          "height": 34
        },
        "outputId": "4f24b8dd-6053-4799-bfdf-9749cdc2d16a"
      },
      "source": [
        "delta_taux_refraction = ((delta_refractometre+delta_b_refraction)/(indice_echantillon_corrige-b_refraction)+(delta_a_refraction/a_refraction))*taux_refraction\n",
        "delta_taux_refraction"
      ],
      "execution_count": 70,
      "outputs": [
        {
          "output_type": "execute_result",
          "data": {
            "text/plain": [
              "-0.0"
            ]
          },
          "metadata": {
            "tags": []
          },
          "execution_count": 70
        }
      ]
    },
    {
      "cell_type": "code",
      "metadata": {
        "id": "vCC-Hkaz8t_1",
        "colab_type": "code",
        "colab": {
          "base_uri": "https://localhost:8080/",
          "height": 34
        },
        "outputId": "f0ddb82f-1d4e-4011-b727-47731695cf7c"
      },
      "source": [
        "b_refraction, indice_echantillon_corrige"
      ],
      "execution_count": 71,
      "outputs": [
        {
          "output_type": "execute_result",
          "data": {
            "text/plain": [
              "(1.491675, 0.0009899999999999996)"
            ]
          },
          "metadata": {
            "tags": []
          },
          "execution_count": 71
        }
      ]
    },
    {
      "cell_type": "markdown",
      "metadata": {
        "id": "856v8WHyLw37",
        "colab_type": "text"
      },
      "source": [
        "# Masse volumique"
      ]
    },
    {
      "cell_type": "markdown",
      "metadata": {
        "id": "9S8hAFYwM4_j",
        "colab_type": "text"
      },
      "source": [
        "## Donnes"
      ]
    },
    {
      "cell_type": "code",
      "metadata": {
        "id": "TR43sKXmPe-W",
        "colab_type": "code",
        "colab": {}
      },
      "source": [
        "x = pourcentages_volumiques\n",
        "y = masses_volumiques"
      ],
      "execution_count": 0,
      "outputs": []
    },
    {
      "cell_type": "markdown",
      "metadata": {
        "id": "JG61OiNOQLNC",
        "colab_type": "text"
      },
      "source": [
        "## Calcul de la masse volumique"
      ]
    },
    {
      "cell_type": "markdown",
      "metadata": {
        "id": "FEhF-iecFV-x",
        "colab_type": "text"
      },
      "source": [
        "### Volume du pycnomètre"
      ]
    },
    {
      "cell_type": "code",
      "metadata": {
        "id": "-rVrA6mcQdZk",
        "colab_type": "code",
        "colab": {
          "base_uri": "https://localhost:8080/",
          "height": 201
        },
        "outputId": "874d67aa-bafe-4b01-835a-28a9f19b5e38"
      },
      "source": [
        "volume_pycno = (masse_pycno_eau-masse_pycno)/masseVolumique_eau\n",
        "delta_volume_pycno = ((delta_balance*2)/(masse_pycno_eau-masse_pycno)+(delta_masseVolumique_eau/masseVolumique_eau))*volume_pycno"
      ],
      "execution_count": 73,
      "outputs": [
        {
          "output_type": "error",
          "ename": "ZeroDivisionError",
          "evalue": "ignored",
          "traceback": [
            "\u001b[0;31m---------------------------------------------------------------------------\u001b[0m",
            "\u001b[0;31mZeroDivisionError\u001b[0m                         Traceback (most recent call last)",
            "\u001b[0;32m<ipython-input-73-e9c02fbde44f>\u001b[0m in \u001b[0;36m<module>\u001b[0;34m()\u001b[0m\n\u001b[0;32m----> 1\u001b[0;31m \u001b[0mvolume_pycno\u001b[0m \u001b[0;34m=\u001b[0m \u001b[0;34m(\u001b[0m\u001b[0mmasse_pycno_eau\u001b[0m\u001b[0;34m-\u001b[0m\u001b[0mmasse_pycno\u001b[0m\u001b[0;34m)\u001b[0m\u001b[0;34m/\u001b[0m\u001b[0mmasseVolumique_eau\u001b[0m\u001b[0;34m\u001b[0m\u001b[0;34m\u001b[0m\u001b[0m\n\u001b[0m\u001b[1;32m      2\u001b[0m \u001b[0mdelta_volume_pycno\u001b[0m \u001b[0;34m=\u001b[0m \u001b[0;34m(\u001b[0m\u001b[0;34m(\u001b[0m\u001b[0mdelta_balance\u001b[0m\u001b[0;34m*\u001b[0m\u001b[0;36m2\u001b[0m\u001b[0;34m)\u001b[0m\u001b[0;34m/\u001b[0m\u001b[0;34m(\u001b[0m\u001b[0mmasse_pycno_eau\u001b[0m\u001b[0;34m-\u001b[0m\u001b[0mmasse_pycno\u001b[0m\u001b[0;34m)\u001b[0m\u001b[0;34m+\u001b[0m\u001b[0;34m(\u001b[0m\u001b[0mdelta_masseVolumique_eau\u001b[0m\u001b[0;34m/\u001b[0m\u001b[0mmasseVolumique_eau\u001b[0m\u001b[0;34m)\u001b[0m\u001b[0;34m)\u001b[0m\u001b[0;34m*\u001b[0m\u001b[0mvolume_pycno\u001b[0m\u001b[0;34m\u001b[0m\u001b[0;34m\u001b[0m\u001b[0m\n",
            "\u001b[0;31mZeroDivisionError\u001b[0m: division by zero"
          ]
        }
      ]
    },
    {
      "cell_type": "code",
      "metadata": {
        "id": "YqQxgDKBFEwV",
        "colab_type": "code",
        "colab": {}
      },
      "source": [
        "volume_pycno, delta_volume_pycno"
      ],
      "execution_count": 0,
      "outputs": []
    },
    {
      "cell_type": "markdown",
      "metadata": {
        "id": "5_wTCtqmFaq5",
        "colab_type": "text"
      },
      "source": [
        "## Masse volumique de l'échantillon"
      ]
    },
    {
      "cell_type": "code",
      "metadata": {
        "id": "6w1WpYiCFiXq",
        "colab_type": "code",
        "colab": {}
      },
      "source": [
        "masseVolumique_echantillon = (masse_pycno_ethanol - masse_pycno)/volume_pycno\n",
        "delta_masseVolumique_echantillon = ((delta_balance*2)/(masse_pycno_ethanol-masse_pycno)+(delta_volume_pycno/volume_pycno))*masseVolumique_echantillon"
      ],
      "execution_count": 0,
      "outputs": []
    },
    {
      "cell_type": "code",
      "metadata": {
        "id": "2v4n_W3ZGwoG",
        "colab_type": "code",
        "colab": {}
      },
      "source": [
        "masseVolumique_echantillon, delta_masseVolumique_echantillon"
      ],
      "execution_count": 0,
      "outputs": []
    },
    {
      "cell_type": "markdown",
      "metadata": {
        "id": "pBUdKldBMsxW",
        "colab_type": "text"
      },
      "source": [
        "## Graphique pour la masse volumique"
      ]
    },
    {
      "cell_type": "markdown",
      "metadata": {
        "id": "_BhPqvzBNBRf",
        "colab_type": "text"
      },
      "source": [
        "### Calcul de la pente du graphique"
      ]
    },
    {
      "cell_type": "code",
      "metadata": {
        "id": "ZjKkpo9QNXqt",
        "colab_type": "code",
        "colab": {}
      },
      "source": [
        "z, cov = np.polyfit(x,y,1,cov=True)\n",
        "n = len(y)\n",
        "dofreedom = n-2\n",
        "p = np.poly1d(z)\n",
        "yp = p(x)\n",
        "slope = z[0]\n",
        "intercept = z[1]\n",
        "r2 = np.corrcoef(x,y)[0][1]**2\n",
        "regression_ss = np.sum( (yp-np.mean(y))**2)\n",
        "residual_ss = np.sum( (y-yp)**2 )\n",
        "slope_pm = np.sqrt(residual_ss / (dofreedom*np.sum((x-np.mean(x))**2)))\n",
        "intercept_pm = slope_pm*np.sqrt(np.sum(x**2)/n)\n",
        "s = np.sqrt(residual_ss/dofreedom)\n",
        "F = regression_ss/s**2"
      ],
      "execution_count": 0,
      "outputs": []
    },
    {
      "cell_type": "code",
      "metadata": {
        "id": "kNrn-y3pNyXJ",
        "colab_type": "code",
        "colab": {}
      },
      "source": [
        "slope, intercept, slope_pm, intercept_pm"
      ],
      "execution_count": 0,
      "outputs": []
    },
    {
      "cell_type": "markdown",
      "metadata": {
        "id": "Pob6BCQrNyqA",
        "colab_type": "text"
      },
      "source": [
        "### Donnes utiles aux calculs"
      ]
    },
    {
      "cell_type": "code",
      "metadata": {
        "id": "iD_1uadrN3jb",
        "colab_type": "code",
        "colab": {}
      },
      "source": [
        "a_masseVolumique = slope\n",
        "b_masseVolumique = intercept\n",
        "delta_a_masseVolumique = slope_pm\n",
        "delta_b_masseVolumique = intercept_pm"
      ],
      "execution_count": 0,
      "outputs": []
    },
    {
      "cell_type": "markdown",
      "metadata": {
        "id": "Zkc9zknpOfqy",
        "colab_type": "text"
      },
      "source": [
        "##Calculs du pourcentage volumique d'alcool par rapport à la masse volumique"
      ]
    },
    {
      "cell_type": "code",
      "metadata": {
        "id": "uKyyOJlWP8XJ",
        "colab_type": "code",
        "colab": {}
      },
      "source": [
        "taux_masseVolumique = (masseVolumique_echantillon-b_masseVolumique)/a_masseVolumique\n",
        "taux_masseVolumique"
      ],
      "execution_count": 0,
      "outputs": []
    },
    {
      "cell_type": "code",
      "metadata": {
        "id": "zqi6M-cHH869",
        "colab_type": "code",
        "colab": {}
      },
      "source": [
        "delta_taux_masseVolumique = ((delta_b_masseVolumique+delta_masseVolumique_echantillon)/(b_masseVolumique-masseVolumique_echantillon)+(delta_a_masseVolumique/a_masseVolumique))*taux_masseVolumique\n",
        "delta_taux_masseVolumique"
      ],
      "execution_count": 0,
      "outputs": []
    },
    {
      "cell_type": "markdown",
      "metadata": {
        "id": "riDUU_Mo7dyu",
        "colab_type": "text"
      },
      "source": [
        "# Résultats"
      ]
    },
    {
      "cell_type": "markdown",
      "metadata": {
        "id": "5fa6CVG87hGZ",
        "colab_type": "text"
      },
      "source": [
        "## Pour l'indice de réfraction"
      ]
    },
    {
      "cell_type": "markdown",
      "metadata": {
        "id": "BgIqLis-7oDl",
        "colab_type": "text"
      },
      "source": [
        "### Résultats"
      ]
    },
    {
      "cell_type": "code",
      "metadata": {
        "id": "B9fh9BP28S6Q",
        "colab_type": "code",
        "colab": {}
      },
      "source": [
        "print(\"Pourcentage d'alcool: \" + str(taux_refraction), \"Incertitude sur le pourcentage: \" + str(delta_taux_refraction), sep=\"\\n\")"
      ],
      "execution_count": 0,
      "outputs": []
    },
    {
      "cell_type": "markdown",
      "metadata": {
        "id": "hPfE24Le7xDs",
        "colab_type": "text"
      },
      "source": [
        "### Graphique"
      ]
    },
    {
      "cell_type": "code",
      "metadata": {
        "id": "Ce4NOINl71Hj",
        "colab_type": "code",
        "colab": {}
      },
      "source": [
        "## Pas bon encore\n",
        "plt.style.use('ggplot')\n",
        "plt.scatter(x,y)\n",
        "plt.plot(x, (x*slope+intercept))\n",
        "print (\"Indice de réfraction = %.6fx+(%.6f)\"%(slope, intercept))"
      ],
      "execution_count": 0,
      "outputs": []
    },
    {
      "cell_type": "markdown",
      "metadata": {
        "id": "eTwqvPsp7kQV",
        "colab_type": "text"
      },
      "source": [
        "## Pour la masse volumique"
      ]
    },
    {
      "cell_type": "markdown",
      "metadata": {
        "id": "TbWw194Y7nCW",
        "colab_type": "text"
      },
      "source": [
        "### Résultats"
      ]
    },
    {
      "cell_type": "code",
      "metadata": {
        "id": "olTVKadT9Tny",
        "colab_type": "code",
        "colab": {}
      },
      "source": [
        "print(\"Pourcentage d'alcool: \" + str(taux_masseVolumique), \"Incertitude sur le pourcentage: \" + str(delta_taux_masseVolumique), sep=\"\\n\")"
      ],
      "execution_count": 0,
      "outputs": []
    },
    {
      "cell_type": "markdown",
      "metadata": {
        "id": "Ky_1NM0H9Qyc",
        "colab_type": "text"
      },
      "source": [
        "###Graphique"
      ]
    },
    {
      "cell_type": "code",
      "metadata": {
        "id": "rP1axi1B9S6b",
        "colab_type": "code",
        "colab": {}
      },
      "source": [
        ""
      ],
      "execution_count": 0,
      "outputs": []
    }
  ]
}