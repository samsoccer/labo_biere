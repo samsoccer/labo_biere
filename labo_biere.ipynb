{
 "cells": [
  {
   "cell_type": "markdown",
   "metadata": {
    "colab_type": "text",
    "id": "-CVH_7dm-WWi"
   },
   "source": [
    "# Les imports"
   ]
  },
  {
   "cell_type": "code",
   "execution_count": null,
   "metadata": {
    "colab": {},
    "colab_type": "code",
    "id": "E5WlvQPd-ETq"
   },
   "outputs": [],
   "source": [
    "import numpy as np\n",
    "from scipy.stats import linregress\n",
    "from matplotlib import pyplot as plt"
   ]
  },
  {
   "cell_type": "markdown",
   "metadata": {
    "colab_type": "text",
    "id": "PeEjFCeWI1dQ"
   },
   "source": [
    "# Les donnés"
   ]
  },
  {
   "cell_type": "markdown",
   "metadata": {
    "colab_type": "text",
    "id": "TbcY4rZyU-VA"
   },
   "source": [
    "## Pour la masse volumique\n",
    "\n",
    "  \n",
    "\n",
    "*   **pourcentage volumique:** %v/v. entrez les valeurs entre les crochets. \n",
    "ex:\n",
    "\n",
    "\n",
    "```\n",
    "pourcentages_volumiques = np.array([1.3, 2.5, 3.8, 5.0, 6.3, 7.5, 10])\n",
    "```\n",
    "\n",
    "\n",
    "*   **masses_volumiques:** masses volumiques selons les pourcentages volumiques. \n",
    "ex:\n",
    "\n",
    "\n",
    "\n",
    "```\n",
    "np.array([0.9963, 0.9945, 0.9927, 0.991, 0.9893, 0.9878, 0.9847])\n",
    "```\n",
    "\n",
    "* **masse_pycno:** Masse du pycnomètre (en grammes).\n",
    "\n",
    "* **masse_pycno_eau:** Masse du pycnomètre et de l'eau (en grammes).\n",
    "\n",
    "* **masse_pycno_ethanol:** Masse du pycnomètre et de l'échantillon (en grammes).\n",
    "\n",
    "* **masseVolumique_eau:** Masse volumique de l'eau à la température mesurée (en g/cm^3).\n",
    "\n",
    "* **delta_masseVolumique_eau:** Incertitude sur la masse volumique de l'eau.\n",
    "\n",
    "* **delta_balance:** Incertitude sur la balance analytique (en grammes).\n",
    "\n"
   ]
  },
  {
   "cell_type": "code",
   "execution_count": null,
   "metadata": {
    "colab": {},
    "colab_type": "code",
    "id": "o252ldT2X_Fm"
   },
   "outputs": [],
   "source": [
    "pourcentages_volumiques = np.array([1,2,3])\n",
    "masses_volumiques = np.array([1,2,3])\n",
    "masse_pycno = 0\n",
    "masse_pycno_eau = 0\n",
    "masse_pycno_ethanol = 0\n",
    "masseVolumique_eau = 0\n",
    "delta_masseVolumique_eau = 0\n",
    "delta_balance = 0"
   ]
  },
  {
   "cell_type": "markdown",
   "metadata": {
    "colab_type": "text",
    "id": "w_A-LezlYPX-"
   },
   "source": [
    "## Pour l'indice de réfraction\n",
    "\n",
    "* **volume_pourcent:** %v/v. Entrez les valeurs entre les crochets.\n",
    "ex:\n",
    "\n",
    "\n",
    "```\n",
    "volume_pourcent = np.array([3, 5, 6, 8, 10])\n",
    "```\n",
    "* **nD_raw:** Liste des listes d'indices de réfraction non-corrigés. Chaque paire de crochets correspond à un pourcentage volumique.\n",
    "ex:\n",
    "\n",
    "\n",
    "```\n",
    "nD_raw = [[1.3340, 1.33], [1.3353, 1.3353], [1.3356,1.3355], [1.3370,1.3373], [1.3380, 1.3380]]\n",
    "\n",
    "```\n",
    "* **temp:** Liste de listes de températures pour chaque indices de réfraction. Chaque paire de crochets correspond à un pourcentage volumique.\n",
    "ex:\n",
    "\n",
    "\n",
    "```\n",
    "temp = [[21.2, 20.8], [21.1, 21], [21.9, 20.8], [21.2,21.5], [22,21.9]]\n",
    "\n",
    "```\n",
    "* **indice_echantillon:** Indice de réfraction de l'échantillon.\n",
    "* **temp_echantillon:** Température à laquelle l'indice de réfraction a été mesuré.\n",
    "* **delta_refractometre:** Incertitude sur l'indice de réfraction.\n",
    "* **delta_temp_refractometre:** Incertitude sur la température mesurée par le réfractomètre.\n",
    "\n",
    "\n",
    "\n",
    "\n",
    "\n"
   ]
  },
  {
   "cell_type": "code",
   "execution_count": null,
   "metadata": {
    "colab": {},
    "colab_type": "code",
    "id": "AzeZH1iOZ4AC"
   },
   "outputs": [],
   "source": [
    "volume_pourcent = np.array([1,2,3,4,5])\n",
    "nD_raw = [[1,2], [1,2], [1,2], [1,2], [1,2]]\n",
    "temp = [[1,2], [1,2], [1,2], [1,2], [1,2]]\n",
    "indice_echantillon = 0\n",
    "temp_echantillon = 0\n",
    "delta_refractometre = 0\n",
    "delta_temp_refractometre = 0"
   ]
  },
  {
   "cell_type": "markdown",
   "metadata": {},
   "source": [
    "## Pour le titrage redox\n",
    "\n",
    "* c_Fe: concentration de la solution Fe\n",
    "* v_Fe: liste de volumes se solution Fe versés lors du titrage. ex:\n",
    "```\n",
    "v_Fe = [1,2,3]\n",
    "```"
   ]
  },
  {
   "cell_type": "code",
   "execution_count": null,
   "metadata": {},
   "outputs": [],
   "source": [
    "c_Fe = 0\n",
    "v_Fe = [1,2,3]"
   ]
  },
  {
   "cell_type": "markdown",
   "metadata": {
    "colab_type": "text",
    "id": "-OWMGItu-aDl"
   },
   "source": [
    "# Indice de réfraction"
   ]
  },
  {
   "cell_type": "markdown",
   "metadata": {
    "colab_type": "text",
    "id": "RF4RKEDWA0P9"
   },
   "source": [
    "## Calcul des nD corriges"
  89]
  },
  {
   "cell_type": "markdown",
   "metadata": {
    "colab_type": "text",
    "id": "vFAD68nux2nQ"
   },
   "source": [
    "Correction des indices de réfraction. Le programme lit toutes les valeurs de la liste nD_raw et fait le calcul suivant: \n",
    "$nD_{corrige}= nD_{initial} + 0.00045 \\times (temp-20)$"
   ]
  },
  {
   "cell_type": "code",
   "execution_count": null,
   "metadata": {
    "colab": {},
    "colab_type": "code",
    "id": "5j8WHGA5BCvA"
   },
   "outputs": [],
   "source": [
    "nD_corrige = []"
   ]
  },
  {
   "cell_type": "code",
   "execution_count": null,
   "metadata": {
    "colab": {},
    "colab_type": "code",
    "id": "HAcgstQBBUEc"
   },
   "outputs": [],
   "source": [
    "index = 0\n",
    "for values in nD_raw:\n",
    "  corrige_0 = values[0] + 0.00045*((temp[index])[0]- 20)\n",
    "  corrige_1 = values[1] + 0.00045*((temp[index])[1]- 20)\n",
    "  nD_corrige.append([corrige_0, corrige_1])\n",
    "  index += 1"
   ]
  },
  {
   "cell_type": "markdown",
   "metadata": {
    "colab_type": "text",
    "id": "mAQv0PiBygDP"
   },
   "source": [
    "**Les indices corrigés:**"
   ]
  },
  {
   "cell_type": "code",
   "execution_count": null,
   "metadata": {
    "colab": {
     "base_uri": "https://localhost:8080/"
    },
    "colab_type": "code",
    "id": "WQlXsQLlCoV5",
    "outputId": "9544d40d-78da-4e5e-dfd1-35bbbded672e"
   },
   "outputs": [],
   "source": [
    "nD_corrige"
   ]
  },
  {
   "cell_type": "markdown",
   "metadata": {
    "colab_type": "text",
    "id": "kVVk_3NnAYut"
   },
   "source": [
    "## Moyenne pour chacun des pourcentages volumiques"
   ]
  },
  {
   "cell_type": "markdown",
   "metadata": {
    "colab_type": "text",
    "id": "HZ0q5rHryr73"
   },
   "source": [
    "Moyenne par température. Le programme fait la moyenne de chaque liste en faisant:\n",
    "$ moyenne = \\frac{valeur_1 \\times valeur_2}{2} $"
   ]
  },
  {
   "cell_type": "code",
   "execution_count": null,
   "metadata": {
    "colab": {},
    "colab_type": "code",
    "id": "LRfy4iaQA9ni"
   },
   "outputs": [],
   "source": [
    "nD_moy = []"
   ]
  },
  {
   "cell_type": "code",
   "execution_count": null,
   "metadata": {
    "colab": {},
    "colab_type": "code",
    "id": "MTb7JRRUAhSu"
   },
   "outputs": [],
   "source": [
    "for values in nD_corrige:\n",
    "  moyenne = (values[0]+values[1])/2\n",
    "  nD_moy.append(moyenne)"
   ]
  },
  {
   "cell_type": "markdown",
   "metadata": {
    "colab_type": "text",
    "id": "99BiEm5f_lOh"
   },
   "source": [
    "**Les indices moyens**"
   ]
  },
  {
   "cell_type": "code",
   "execution_count": null,
   "metadata": {
    "colab": {
     "base_uri": "https://localhost:8080/"
    },
    "colab_type": "code",
    "id": "Z_cfZoPJ_n2t",
    "outputId": "168d6f56-b2a1-4d47-d065-8b091b499e1f"
   },
   "outputs": [],
   "source": [
    "nD_moy"
   ]
  },
  {
   "cell_type": "markdown",
   "metadata": {
    "colab_type": "text",
    "id": "SDxkHN9Gkn9A"
   },
   "source": [
    "## Informations nécessaires aux calculs"
   ]

  
  },
  {
   "cell_type": "markdown",
   "metadata": {
    "colab_type": "text",
    "id": "SGMVop2clHuL"
   },
   "source": [
    "### Donnés"
   ]
  },
  {
   "cell_type": "markdown",
   "metadata": {
    "colab_type": "text",
    "id": "iFmqmOCrzvTd"
   },
   "source": [
    "Création des axes des x et y."
   ]
  },
  {
   "cell_type": "code",
   "execution_count": null,
   "metadata": {
    "colab": {},
    "colab_type": "code",
    "id": "YXDlExqjC9em"
   },
   "outputs": [],
   "source": [
    "x = np.array(volume_pourcent)\n",
    "y = np.array(nD_moy)"
   ]
  },
  {
   "cell_type": "markdown",
   "metadata": {
    "colab_type": "text",
    "id": "pTGVYuARljWE"
   },
   "source": [
    "### Equation de la droite"
   ]
  },
  {
   "cell_type": "markdown",
   "metadata": {
    "colab_type": "text",
    "id": "osXA-O5Hz_f7"
   },
   "source": [
    "Calcul de l'équation de la pente. Il est possible d'appeler n'importe laquelle de ces valeurs comme montré dans la cellule suivante."
   ]
  },
  {
   "cell_type": "code",
   "execution_count": null,
   "metadata": {
    "colab": {},
    "colab_type": "code",
    "id": "CpkNVWEPlrx6"
   },
   "outputs": [],
   "source": [
    "z, cov = np.polyfit(x,y,1,cov=True)\n",
    "n = len(y)\n",
    "dofreedom = n-2\n",
    "p = np.poly1d(z)\n",
    "yp = p(x)\n",
    "slope = z[0]\n",
    "intercept = z[1]\n",
    "r2 = np.corrcoef(x,y)[0][1]**2\n",
    "regression_ss = np.sum( (yp-np.mean(y))**2)\n",
    "residual_ss = np.sum( (y-yp)**2 )\n",
    "slope_pm = np.sqrt(residual_ss / (dofreedom*np.sum((x-np.mean(x))**2)))\n",
    "intercept_pm = slope_pm*np.sqrt(np.sum(x**2)/n)\n",
    "s = np.sqrt(residual_ss/dofreedom)\n",
    "F = regression_ss/s**2"
   ]
  },
  {
   "cell_type": "markdown",
   "metadata": {
    "colab_type": "text",
    "id": "KchcK8EF0Ns-"
   },
   "source": [
    "Pente, b, erreur sur la pente, erreur sur b, r²"
   ]
  },
  {
   "cell_type": "code",
   "execution_count": null,
   "metadata": {
    "colab": {
     "base_uri": "https://localhost:8080/",
     "height": 85
    },
    "colab_type": "code",
    "id": "HaNtP7LAmBAw",
    "outputId": "47e51187-d754-449c-f620-b968c5570171"
   },
   "outputs": [],
   "source": [
    "slope, intercept, intercept_pm, r2"
   ]
  },
  {
   "cell_type": "markdown",
   "metadata": {
    "colab_type": "text",
    "id": "eagOGJ8KpBKb"
   },
   "source": [
    "### Donnés utiles aux calculs"
   ]
  },
  {
   "cell_type": "code",
   "execution_count": null,
   "metadata": {
    "colab": {},
    "colab_type": "code",
    "id": "X-qELAJrpETk"
   },
   "outputs": [],
   "source": [
    "a_refraction = slope\n",
    "b_refraction = intercept\n",
    "delta_a_refraction = slope_pm\n",
    "delta_b_refraction = intercept_pm"
   ]
  },
  {
   "cell_type": "markdown",
   "metadata": {
    "colab_type": "text",
    "id": "krcHuTj9mpeB"
   },
   "source": [
    "## Calculs à partir de l'indice de réfraction"
   ]
  },
  {
   "cell_type": "markdown",
   "metadata": {
    "colab_type": "text",
    "id": "6LL1WL61tyBc"
   },
   "source": [
    "Il faut corriger à 20 degrés l'indice de réfraction:\n",
    "$nD_{corrigé} = nD_{echantillon}+0.00045\\times(T-20)$"
   ]
  },
  {
   "cell_type": "code",
   "execution_count": null,
   "metadata": {
    "colab": {
     "base_uri": "https://localhost:8080/",
     "height": 34
    },
    "colab_type": "code",
    "id": "-lwE7Oljt6jm",
    "outputId": "cdba3569-31c1-407b-a6a4-4b842cdd9f76"
   },
   "outputs": [],
   "source": [
    "indice_echantillon_corrige = indice_echantillon+.00045*(22.2 - 20)\n",
    "indice_echantillon_corrige"
   ]
  },
  {
   "cell_type": "markdown",
   "metadata": {
    "colab_type": "text",
    "id": "N3WP4kYEo6cZ"
   },
   "source": [
    "Détermination du pourcentage d'alcool dans la bière par la méthode de l'indice de réfraction:\n",
    "\n",
    "$\\%v/v = \\frac{(indice -b)}{m}$\n"
   ]
  },
  {
   "cell_type": "code",
   "execution_count": null,
   "metadata": {
    "colab": {},
    "colab_type": "code",
    "id": "y7JSEwmHqGF6"
   },
   "outputs": [],
   "source": [
    "taux_refraction = (indice_echantillon_corrige-b_refraction)/a_refraction"
   ]
  },
  {
   "cell_type": "markdown",
   "metadata": {
    "colab_type": "text",
    "id": "D4GMfXY6_631"
   },
   "source": [
    "**Le taux d'alcool pour la réfraction**"
   ]
  },
  {
   "cell_type": "code",
   "execution_count": null,
   "metadata": {
    "colab": {
     "base_uri": "https://localhost:8080/",
     "height": 34
    },
    "colab_type": "code",
    "id": "Z-NNe2QQAByT",
    "outputId": "7206e5e1-1c8b-48b1-a345-9f2fd5928329"
   },
   "outputs": [],
   "source": [
    "taux_refraction"
   ]
  },
  {
   "cell_type": "markdown",
   "metadata": {
    "colab_type": "text",
    "id": "v3ks8dy2ub1R"
   },
   "source": [
    "### Incertitudes sur le calcul de l'indice de réfraction"
   ]
  },
  {
   "cell_type": "markdown",
   "metadata": {
    "colab_type": "text",
    "id": "pghGlYqlAFDY"
   },
   "source": [
    "$\\Delta\\%v/v = (\\frac{\\Delta n_D^{20} + \\Delta b}{n_D^{20} -b} + \\frac{\\Delta m}{m}) \\times \\%v/v$"
   ]
  },
  {
   "cell_type": "code",
   "execution_count": null,
   "metadata": {
    "colab": {},
    "colab_type": "code",
    "id": "1lLXmGz7uuDJ"
   },
   "outputs": [],
   "source": [
    "delta_taux_refraction = ((delta_refractometre+delta_b_refraction)/(indice_echantillon_corrige-b_refraction)+(delta_a_refraction/a_refraction))*taux_refraction"
   ]
  },
  {
   "cell_type": "markdown",
   "metadata": {
    "colab_type": "text",
    "id": "lLPM9tkIBYbm"
   },
   "source": [
    "**L'incertitude sur le taux d'alcool pour la réfraction**"
   ]
  },
  {
   "cell_type": "code",
   "execution_count": null,
   "metadata": {
    "colab": {
     "base_uri": "https://localhost:8080/",
     "height": 34
    },
    "colab_type": "code",
    "id": "JZopgF5vBgL8",
    "outputId": "6eebb207-31a2-4fba-fa86-d39706ce5bca"
   },
   "outputs": [],
   "source": [
    "delta_taux_refraction, delta_b_refraction"
   ]
  },
  {
   "cell_type": "code",
   "execution_count": null,
   "metadata": {
    "colab": {
     "base_uri": "https://localhost:8080/",
     "height": 34
    },
    "colab_type": "code",
    "id": "EhsR_Wi3JBkT",
    "outputId": "cdce9879-7e9a-44f6-ea26-941a24ef155b"
   },
   "outputs": [],
   "source": [
    "indice_echantillon_corrige, b_refraction"
   ]
  },
  {
   "cell_type": "code",
   "execution_count": null,
   "metadata": {
    "colab": {
     "base_uri": "https://localhost:8080/",
     "height": 102
    },
    "colab_type": "code",
    "id": "Zm9Fv8ePKtg4",
    "outputId": "c6558147-bef3-4710-87ee-e48bb0e74dc2"
   },
   "outputs": [],
   "source": [
    "nD_raw"
   ]
  },
  {
   "cell_type": "markdown",
   "metadata": {
    "colab_type": "text",
    "id": "856v8WHyLw37"
   },
   "source": [
    "# Masse volumique"
   ]
  },
  {
   "cell_type": "markdown",
   "metadata": {
    "colab_type": "text",
    "id": "9S8hAFYwM4_j"
   },
   "source": [
    "## Donnes"
   ]
  },
  {
   "cell_type": "code",
   "execution_count": null,
   "metadata": {
    "colab": {},
    "colab_type": "code",
    "id": "TR43sKXmPe-W"
   },
   "outputs": [],
   "source": [
    "x = pourcentages_volumiques\n",
    "y = masses_volumiques"
   ]
  },
  {
   "cell_type": "markdown",
   "metadata": {
    "colab_type": "text",
    "id": "JG61OiNOQLNC"
   },
   "source": [
    "## Calcul de la masse volumique"
   ]
  },
  {
   "cell_type": "markdown",
   "metadata": {
    "colab_type": "text",
    "id": "FEhF-iecFV-x"
   },
   "source": [
    "### Volume du pycnomètre"
   ]
  },
  {
   "cell_type": "markdown",
   "metadata": {
    "colab_type": "text",
    "id": "sZH1aREGBpfz"
   },
   "source": [
    "**Pour le calcul:**\n",
    "$ V_{pycno} = \\frac{(m _{pycno+eau} - m_{pycno})}{\\rho_{eau}}$\n",
    "\n",
    "\n",
    "**Pour le calcul de l'incertitude:**\n",
    "$\\Delta V_{pycno} = (\\frac{(\\Delta m_{pycno+eau} + \\Delta m_{pycno})}{(m_{pycno+eau} - m_{pycno})} +\\frac{\\Delta\\rho_{eau}}{\\rho_{eau}}) \\times V_{pycno}$\n"
   ]
  },
  {
   "cell_type": "code",
   "execution_count": null,
   "metadata": {
    "colab": {},
    "colab_type": "code",
    "id": "-rVrA6mcQdZk"
   },
   "outputs": [],
   "source": [
    "volume_pycno = (masse_pycno_eau-masse_pycno)/masseVolumique_eau\n",
    "delta_volume_pycno = ((delta_balance*2)/(masse_pycno_eau-masse_pycno)+(delta_masseVolumique_eau/masseVolumique_eau))*volume_pycno"
   ]
  },
  {
   "cell_type": "code",
   "execution_count": null,
   "metadata": {
    "colab": {
     "base_uri": "https://localhost:8080/"
    },
    "colab_type": "code",
    "id": "YqQxgDKBFEwV",
    "outputId": "5337d466-320d-417f-8551-bae92d33a42e"
   },
   "outputs": [],
   "source": [
    "volume_pycno, delta_volume_pycno"
   ]
  },
  {
   "cell_type": "markdown",
   "metadata": {
    "colab_type": "text",
    "id": "5_wTCtqmFaq5"
   },
   "source": [
    "## Masse volumique de l'échantillon"
   ]
  },
  {
   "cell_type": "markdown",
   "metadata": {
    "colab_type": "text",
    "id": "uCKRrzy6Fw1G"
   },
   "source": [
    "**Pour la calcul de la masse volumique:**\n",
    "$\\rho_{ech}= \\frac{(m_{pycno+éch} - m_{pycno})}{V_{pycno}}$\n",
    "\n",
    "**Pour l'incertitude sur le calcul:**\n",
    "$\\Delta\\rho_{ech} = (\\frac{(\\Delta m_{pycno+éch} + \\Delta m_{pycno})}{(m_{pycno+éch} - m_{pycno})} + \\frac{\\Delta V_{pycno}}{V_{pycno}})\\times \\rho_{ech}$"
   ]
  },
  {
   "cell_type": "code",
   "execution_count": null,
   "metadata": {
    "colab": {},
    "colab_type": "code",
    "id": "6w1WpYiCFiXq"
   },
   "outputs": [],
   "source": [
    "masseVolumique_echantillon = (masse_pycno_ethanol - masse_pycno)/volume_pycno\n",
    "delta_masseVolumique_echantillon = ((delta_balance*2)/(masse_pycno_ethanol-masse_pycno)+(delta_volume_pycno/volume_pycno))*masseVolumique_echantillon"
   ]
  },
  {
   "cell_type": "code",
   "execution_count": null,
   "metadata": {
    "colab": {
     "base_uri": "https://localhost:8080/"
    },
    "colab_type": "code",
    "id": "2v4n_W3ZGwoG",
    "outputId": "1b5b950f-02d0-46f9-cff0-70dce6689401"
   },
   "outputs": [],
   "source": [
    "masseVolumique_echantillon, delta_masseVolumique_echantillon"
   ]
  },
  {
   "cell_type": "markdown",
   "metadata": {
    "colab_type": "text",
    "id": "pBUdKldBMsxW"
   },
   "source": [
    "## Informations nécessaires aux calculs"
   ]
  },
  {
   "cell_type": "markdown",
   "metadata": {
    "colab_type": "text",
    "id": "_BhPqvzBNBRf"
   },
   "source": [
    "### Calcul des paramètres pour le graphique"
   ]
  },
  {
   "cell_type": "code",
   "execution_count": null,
   "metadata": {
    "colab": {},
    "colab_type": "code",
    "id": "ZjKkpo9QNXqt"
   },
   "outputs": [],
   "source": [
    "z, cov = np.polyfit(x,y,1,cov=True)\n",
    "n = len(y)\n",
    "dofreedom = n-2\n",
    "p = np.poly1d(z)\n",
    "yp = p(x)\n",
    "slope = z[0]\n",
    "intercept = z[1]\n",
    "r2 = np.corrcoef(x,y)[0][1]**2\n",
    "regression_ss = np.sum( (yp-np.mean(y))**2)\n",
    "residual_ss = np.sum( (y-yp)**2 )\n",
    "slope_pm = np.sqrt(residual_ss / (dofreedom*np.sum((x-np.mean(x))**2)))\n",
    "intercept_pm = slope_pm*np.sqrt(np.sum(x**2)/n)\n",
    "s = np.sqrt(residual_ss/dofreedom)\n",
    "F = regression_ss/s**2"
   ]
  },
  {
   "cell_type": "code",
   "execution_count": null,
   "metadata": {
    "colab": {
     "base_uri": "https://localhost:8080/"
    },
    "colab_type": "code",
    "id": "kNrn-y3pNyXJ",
    "outputId": "c9c6b009-2e81-4404-f55e-e978273823f1"
   },
   "outputs": [],
   "source": [
    "slope, intercept, slope_pm, intercept_pm"
   ]
  },
  {
   "cell_type": "markdown",
   "metadata": {
    "colab_type": "text",
    "id": "Pob6BCQrNyqA"
   },
   "source": [
    "### Donnes utiles aux calculs"
   ]
  },
  {
   "cell_type": "code",
   "execution_count": null,
   "metadata": {
    "colab": {},
    "colab_type": "code",
    "id": "iD_1uadrN3jb"
   },
   "outputs": [],
   "source": [
    "a_masseVolumique = slope\n",
    "b_masseVolumique = intercept\n",
    "delta_a_masseVolumique = slope_pm\n",
    "delta_b_masseVolumique = intercept_pm"
   ]
  },
  {
   "cell_type": "markdown",
   "metadata": {
    "colab_type": "text",
    "id": "Zkc9zknpOfqy"
   },
   "source": [
    "##Calculs du pourcentage volumique d'alcool par rapport à la masse volumique"
   ]
  },
  {
   "cell_type": "code",
   "execution_count": null,
   "metadata": {
    "colab": {
     "base_uri": "https://localhost:8080/"
    },
    "colab_type": "code",
    "id": "uKyyOJlWP8XJ",
    "outputId": "750a6be6-6c24-4eb8-c276-048eae83c455"
   },
   "outputs": [],
   "source": [
    "taux_masseVolumique = (masseVolumique_echantillon-b_masseVolumique)/a_masseVolumique\n",
    "taux_masseVolumique"
   ]
  },
  {
   "cell_type": "code",
   "execution_count": null,
   "metadata": {
    "colab": {
     "base_uri": "https://localhost:8080/"
    },
    "colab_type": "code",
    "id": "zqi6M-cHH869",
    "outputId": "95166012-186e-4588-a662-cc405306846c"
   },
   "outputs": [],
   "source": [
    "delta_taux_masseVolumique = ((delta_b_masseVolumique+delta_masseVolumique_echantillon)/(b_masseVolumique-masseVolumique_echantillon)+(delta_a_masseVolumique/a_masseVolumique))*taux_masseVolumique\n",
    "delta_taux_masseVolumique"
   ]
  },
  {
   "cell_type": "markdown",
   "metadata": {
    "colab_type": "text",
    "id": "OryTXcbXODHx"
   },
   "source": [
    "# Titrage Redox"
   ]
  },
  {
   "cell_type": "markdown",
   "metadata": {},
   "source": [
    "**Pour faire la moyenne:**\n",
    "\n",
    "$moy = \\frac{V_{Fe1} + V_{Fe2} + V_{Fe3}}{3}$"
   ]
  },
  {
   "cell_type": "code",
   "execution_count": null,
   "metadata": {
    "colab": {},
    "colab_type": "code",
    "id": "X0E6UcmFOsjq"
   },
   "outputs": [],
   "source": [
    "def average(liste):\n",
    "  return sum(liste)/len(liste)"
   ]
  },
  {
   "cell_type": "code",
   "execution_count": null,
   "metadata": {
    "colab": {},
    "colab_type": "code",
    "id": "PbK9TUs3OD7o"
   },
   "outputs": [],
   "source": [
    "v_Fe_moy = average(v_Fe)"
   ]
  },
  {
   "cell_type": "code",
   "execution_count": null,
   "metadata": {
    "colab": {
     "base_uri": "https://localhost:8080/",
     "height": 34
    },
    "colab_type": "code",
    "id": "WBLAWs_fO7zR",
    "outputId": "95d96446-5a19-47fe-be24-5f4524cdddfb"
   },
   "outputs": [],
   "source": [
    "v_Fe_moy"
   ]
  },
  {
   "cell_type": "code",
   "execution_count": null,
   "metadata": {
    "colab": {},
    "colab_type": "code",
    "id": "Uze45HjMO8u4"
   },
   "outputs": [],
   "source": [
    "n_Cr_exces = (c_Fe*v_Fe_moy)/6"
   ]
  },
  {
   "cell_type": "markdown",
   "metadata": {
    "colab_type": "text",
    "id": "CTT_0Yftb4ld"
   },
   "source": [
    "**Le nombre de moles de dichromate restantes**"
   ]
  },
  {
   "cell_type": "code",
   "execution_count": null,
   "metadata": {
    "colab": {
     "base_uri": "https://localhost:8080/",
     "height": 34
    },
    "colab_type": "code",
    "id": "kcVdRu38PFpY",
    "outputId": "1817f138-bd5e-4e87-db2b-06aff62b7e9b"
   },
   "outputs": [],
   "source": [
    "n_Cr_exces"
   ]
  },
  {
   "cell_type": "markdown",
   "metadata": {},
   "source": [
    "**Pour calculer le nombre de moles de dicromate versees initialement.**\n",
    "$n_{Cr_2O_7^{2-}} = C_{Cr_2O_7^{2-}} \\times  V_{Cr_2O_7^{2-}}$"
   ]
  },
  {
   "cell_type": "code",
   "execution_count": null,
   "metadata": {
    "colab": {
     "base_uri": "https://localhost:8080/",
     "height": 34
    },
    "colab_type": "code",
    "id": "EPUsM9SNbfke",
    "outputId": "f730569e-2163-40f3-b22a-2523bbb3c780"
   },
   "outputs": [],
   "source": [
    "n_Cr_verse = .1148*.01\n",
    "n_Cr_verse"
   ]
  },
  {
   "cell_type": "markdown",
   "metadata": {},
   "source": [
    "**Pour connaitre la quantité de dicromate qui a réagit**\n",
    "\n",
    "$ n_{Cr_2O_7^{2-}reagi} = n_{Cr_2O_7^{2-}verse}-n_{Cr_2O_7^{2-}exces} $"
   ]
  },
  {
   "cell_type": "code",
   "execution_count": null,
   "metadata": {
    "colab": {
     "base_uri": "https://localhost:8080/",
     "height": 34
    },
    "colab_type": "code",
    "id": "BSCnsiIjPG8U",
    "outputId": "14cd4275-6c5e-4e7d-f3f9-e959aefcd429"
   },
   "outputs": [],
   "source": [
    "n_Cr_reagi=n_Cr_verse-n_Cr_exces\n",
    "n_Cr_reagi"
   ]
  },
  {
   "cell_type": "markdown",
   "metadata": {
    "colab_type": "text",
    "id": "mRTYysPTckWo"
   },
   "source": [
    "## Pour calculer le nombre de moles d'alcool dans l'échantillon dosé.\n",
    "\n",
    "$\\frac{n_{Ox}}{a} = \\frac{n_{Red}}{b}$\n",
    "\n",
    "Où le dichromate est l'oxydant fort et l'acide acétique est le réducteur. a et b sont les coefficients stoechiométriques.\n",
    "\n",
    "$n_{ethanol} = \\frac{n_{Cr_{2}O_{7}^{2-}reagi}}{2} \\times 3$"
   ]
  },
  {
   "cell_type": "code",
   "execution_count": null,
   "metadata": {
    "colab": {
     "base_uri": "https://localhost:8080/",
     "height": 34
    },
    "colab_type": "code",
    "id": "whFWLrZrdvI_",
    "outputId": "4fd68ac4-3907-4e53-9863-77a287feaf67"
   },
   "outputs": [],
   "source": [
    "n_ethanol = (n_Cr_reagi/2)*3\n",
    "n_ethanol"
   ]
  },
  {
   "cell_type": "markdown",
   "metadata": {
    "colab_type": "text",
    "id": "3BQyD9MkeMa9"
   },
   "source": [
    "**Il est connu que:**\n",
    "\n",
    "* $\\rho_{ethanol} = 0.7893 g/cm³$\n",
    "* $M_{ethanol} = 46.068g/mol$\n",
    "* $V_{echantillon} = 1mL$"
   ]
  },
  {
   "cell_type": "code",
   "execution_count": null,
   "metadata": {
    "colab": {},
    "colab_type": "code",
    "id": "wZOA5L07fF2F"
   },
   "outputs": [],
   "source": [
    "M_ethanol = 46.068\n",
    "p_ethanol = .7893\n",
    "v_echantillon = .001"
   ]
  },
  {
   "cell_type": "markdown",
   "metadata": {},
   "source": [
    "**Pour calculer la masse d'ethanol qui a reagi**\n",
    "\n",
    "$m_{ethanol} = n_{ethanol}\\times M_{ethanol}$"
   ]
  },
  {
   "cell_type": "code",
   "execution_count": null,
   "metadata": {
    "colab": {
     "base_uri": "https://localhost:8080/",
     "height": 34
    },
    "colab_type": "code",
    "id": "pL844p6SfVs0",
    "outputId": "3565f0a6-27e9-4a63-86c4-4f070c9ce5fa"
   },
   "outputs": [],
   "source": [
    "masse_ethanol = n_ethanol*M_ethanol\n",
    "masse_ethanol"
   ]
  },
  {
   "cell_type": "markdown",
   "metadata": {
    "colab_type": "text",
    "id": "oKGxZsiBjfR2"
   },
   "source": [
    "Il y a donc $0.03789 g/mL$ d'éthanol, alors qu'il devrait y en avoir $0.7893 g/mL$. Le ratio entre ces deux nombre correspond donc au pourcentage volumique d'alcool dans notre échantillon.\n",
    "\n",
    "$\\%v/v = \\frac{m_{ethanol}}{\\rho_{ethanol}} \\times 100$"
   ]
  },
  {
   "cell_type": "code",
   "execution_count": null,
   "metadata": {
    "colab": {},
    "colab_type": "code",
    "id": "QTgEzNiVpz7H"
   },
   "outputs": [],
   "source": [
    "taux_redox = (masse_ethanol/p_ethanol)*100"
   ]
  },
  {
   "cell_type": "markdown",
   "metadata": {},
   "source": [
    "**Le pourcentage d'alcool selon la méthode de réduction:**"
   ]
  },
  {
   "cell_type": "code",
   "execution_count": null,
   "metadata": {
    "colab": {
     "base_uri": "https://localhost:8080/",
     "height": 34
    },
    "colab_type": "code",
    "id": "qBTS4mq4qFi5",
    "outputId": "7b201e80-c8ff-4c67-b9b9-cad7e82720e6"
   },
   "outputs": [],
   "source": [
    "taux_redox"
   ]
  },
  {
   "cell_type": "markdown",
   "metadata": {
    "colab": {},
    "colab_type": "code",
    "id": "-7HUcFsDqL72"
   },
   "source": [
    "# Résultats"
   ]
  },
  {
   "cell_type": "markdown",
   "metadata": {},
   "source": [
    "## Indice de réfraction"
   ]
  },
  {
   "cell_type": "markdown",
   "metadata": {},
   "source": [
    "### Graphique"
   ]
  },
  {
   "cell_type": "code",
   "execution_count": null,
   "metadata": {},
   "outputs": [],
   "source": [
    "x_refrac = np.array(volume_pourcent)\n",
    "y_refrac = np.array(nD_moy)\n",
    "z_refrac = (x_refrac*a_refraction) + b_refraction"
   ]
  },
  {
   "cell_type": "code",
   "execution_count": null,
   "metadata": {},
   "outputs": [],
   "source": [
    "plt.style.use(\"ggplot\")\n",
    "plt.scatter(x_refrac, y_refrac)\n",
    "plt.plot(x_refrac,z_refrac)\n",
    "plt.title(\"Graphique 1: Indice de réfraction en fonction du pourcentage massique d'ethanol\")\n",
    "plt.xlabel(\"%v/v\")\n",
    "plt.ylabel(\"indice de réfraction\")"
   ]
  },
  {
   "cell_type": "markdown",
   "metadata": {},
   "source": [
    "### Résultats"
   ]
  },
  {
   "cell_type": "code",
   "execution_count": null,
   "metadata": {},
   "outputs": [],
   "source": [
    "print(\"%v/v d'alcool pour le calcul à l'aide de l'indice de réfraction:\"+ str(taux_refraction),)"
   ]
  },
  {
   "cell_type": "code",
   "execution_count": null,
   "metadata": {},
   "outputs": [],
   "source": []
  }
 ],
 "metadata": {
  "colab": {
   "collapsed_sections": [
    "-CVH_7dm-WWi",
    "PeEjFCeWI1dQ",
    "-OWMGItu-aDl",
    "RF4RKEDWA0P9",
    "kVVk_3NnAYut",
    "SDxkHN9Gkn9A",
    "pTGVYuARljWE",
    "krcHuTj9mpeB",
    "856v8WHyLw37",
    "riDUU_Mo7dyu",
    "hPfE24Le7xDs",
    "OryTXcbXODHx"
   ],
   "name": "labo_biere.ipynb",
   "provenance": []
  },
  "kernelspec": {
   "display_name": "Python 3",
   "language": "python",
   "name": "python3"
  },
  "language_info": {
   "codemirror_mode": {
    "name": "ipython",
    "version": 3
   },
   "file_extension": ".py",
   "mimetype": "text/x-python",
   "name": "python",
   "nbconvert_exporter": "python",
   "pygments_lexer": "ipython3",
   "version": "3.7.4"
  }
 },
 "nbformat": 4,
 "nbformat_minor": 1
}
