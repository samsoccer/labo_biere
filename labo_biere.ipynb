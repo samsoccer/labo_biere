{
  "nbformat": 4,
  "nbformat_minor": 0,
  "metadata": {
    "colab": {
      "name": "labo_biere.ipynb",
      "provenance": [],
      "include_colab_link": true
    },
    "kernelspec": {
      "name": "python3",
      "display_name": "Python 3"
    }
  },
  "cells": [
    {
      "cell_type": "markdown",
      "metadata": {
        "id": "view-in-github",
        "colab_type": "text"
      },
      "source": [
        "<a href=\"https://colab.research.google.com/github/TrickyTroll/labo_biere/blob/master/labo_biere.ipynb\" target=\"_parent\"><img src=\"https://colab.research.google.com/assets/colab-badge.svg\" alt=\"Open In Colab\"/></a>"
      ]
    },
    {
      "cell_type": "markdown",
      "metadata": {
        "id": "-CVH_7dm-WWi",
        "colab_type": "text"
      },
      "source": [
        "# Les imports"
      ]
    },
    {
      "cell_type": "code",
      "metadata": {
        "id": "E5WlvQPd-ETq",
        "colab_type": "code",
        "colab": {}
      },
      "source": [
        "import numpy as np\n",
        "from scipy.stats import linregress\n",
        "from matplotlib import pyplot as plt"
      ],
      "execution_count": 0,
      "outputs": []
    },
    {
      "cell_type": "markdown",
      "metadata": {
        "id": "PeEjFCeWI1dQ",
        "colab_type": "text"
      },
      "source": [
        "# Les donnés"
      ]
    },
    {
      "cell_type": "markdown",
      "metadata": {
        "id": "TbcY4rZyU-VA",
        "colab_type": "text"
      },
      "source": [
        "## Pour la masse volumique\n",
        "\n",
        "  \n",
        "\n",
        "*   **pourcentage volumique:** %v/v. entrez les valeurs entre les crochets. \n",
        "ex:\n",
        "\n",
        "\n",
        "```\n",
        "pourcentages_volumiques = np.array([1.3, 2.5, 3.8, 5.0, 6.3, 7.5, 10])\n",
        "```\n",
        "\n",
        "\n",
        "*   **masses_volumiques:** masses volumiques selons les pourcentages volumiques. \n",
        "ex:\n",
        "\n",
        "\n",
        "\n",
        "```\n",
        "np.array([0.9963, 0.9945, 0.9927, 0.991, 0.9893, 0.9878, 0.9847])\n",
        "```\n",
        "\n",
        "* **masse_pycno:** Masse du pycnomètre (en grammes).\n",
        "\n",
        "* **masse_pycno_eau:** Masse du pycnomètre et de l'eau (en grammes).\n",
        "\n",
        "* **masse_pycno_ethanol:** Masse du pycnomètre et de l'échantillon (en grammes).\n",
        "\n",
        "* **masseVolumique_eau:** Masse volumique de l'eau à la température mesurée (en g/cm^3).\n",
        "\n",
        "* **delta_masseVolumique_eau:** Incertitude sur la masse volumique de l'eau.\n",
        "\n",
        "* **delta_balance:** Incertitude sur la balance analytique (en grammes).\n",
        "\n"
      ]
    },
    {
      "cell_type": "code",
      "metadata": {
        "id": "o252ldT2X_Fm",
        "colab_type": "code",
        "colab": {}
      },
      "source": [
        "pourcentages_volumiques = np.array([])\n",
        "masses_volumiques = np.array([])\n",
        "masse_pycno = 0\n",
        "masse_pycno_eau = 0\n",
        "masse_pycno_ethanol = 0\n",
        "masseVolumique_eau = 0\n",
        "delta_masseVolumique_eau = 0\n",
        "delta_balance = 0"
      ],
      "execution_count": 0,
      "outputs": []
    },
    {
      "cell_type": "markdown",
      "metadata": {
        "id": "w_A-LezlYPX-",
        "colab_type": "text"
      },
      "source": [
        "## Pour l'indice de réfraction\n",
        "\n",
        "* **volume_pourcent:** %v/v. Entrez les valeurs entre les crochets.\n",
        "ex:\n",
        "\n",
        "\n",
        "```\n",
        "volume_pourcent = np.array([3, 5, 6, 8, 10])\n",
        "```\n",
        "* **nD_raw:** Liste des listes d'indices de réfraction non-corrigés. Chaque paire de crochets correspond à un pourcentage volumique.\n",
        "ex:\n",
        "\n",
        "\n",
        "```\n",
        "nD_raw = [[1.3340, 1.33], [1.3353, 1.3353], [1.3356,1.3355], [1.3370,1.3373], [1.3380, 1.3380]]\n",
        "\n",
        "```\n",
        "* **temp:** Liste de listes de températures pour chaque indices de réfraction. Chaque paire de crochets correspond à un pourcentage volumique.\n",
        "ex:\n",
        "\n",
        "\n",
        "```\n",
        "temp = [[21.2, 20.8], [21.1, 21], [21.9, 20.8], [21.2,21.5], [22,21.9]]\n",
        "\n",
        "```\n",
        "* **indice_echantillon:** Indice de réfraction de l'échantillon.\n",
        "* **temp_echantillon:** Température à laquelle l'indice de réfraction a été mesuré.\n",
        "* **delta_refractometre:** Incertitude sur l'indice de réfraction.\n",
        "* **delta_temp_refractometre:** Incertitude sur la température mesurée par le réfractomètre.\n",
        "\n",
        "\n",
        "\n",
        "\n",
        "\n"
      ]
    },
    {
      "cell_type": "code",
      "metadata": {
        "id": "AzeZH1iOZ4AC",
        "colab_type": "code",
        "colab": {}
      },
      "source": [
        "volume_pourcent = np.array([])\n",
        "nD_raw = [[], [], [], [], []]\n",
        "temp = [[], [], [], [], []]\n",
        "indice_echantillon = 0\n",
        "temp_echantillon = 0\n",
        "delta_refractometre = 0\n",
        "delta_temp_refractometre = 0"
      ],
      "execution_count": 0,
      "outputs": []
    },
    {
      "cell_type": "markdown",
      "metadata": {
        "id": "-OWMGItu-aDl",
        "colab_type": "text"
      },
      "source": [
        "# Indice de réfraction"
      ]
    },
    {
      "cell_type": "markdown",
      "metadata": {
        "id": "RF4RKEDWA0P9",
        "colab_type": "text"
      },
      "source": [
        "##Calcul des nD corriges"
      ]
    },
    {
      "cell_type": "code",
      "metadata": {
        "id": "5j8WHGA5BCvA",
        "colab_type": "code",
        "colab": {}
      },
      "source": [
        "nD_corrige = []"
      ],
      "execution_count": 0,
      "outputs": []
    },
    {
      "cell_type": "code",
      "metadata": {
        "id": "HAcgstQBBUEc",
        "colab_type": "code",
        "outputId": "ee923f60-f8b5-46a1-861b-2d3ea2fd5d7f",
        "colab": {
          "base_uri": "https://localhost:8080/",
          "height": 252
        }
      },
      "source": [
        "index = 0\n",
        "for values in nD_raw:\n",
        "  corrige_0 = values[0] + 0.00045*((temp[index])[0]- 20)\n",
        "  corrige_1 = values[1] + 0.00045*((temp[index])[1]- 20)\n",
        "  nD_corrige.append([corrige_0, corrige_1])\n",
        "  index += 1"
      ],
      "execution_count": 0,
      "outputs": [
        {
          "output_type": "error",
          "ename": "IndexError",
          "evalue": "ignored",
          "traceback": [
            "\u001b[0;31m---------------------------------------------------------------------------\u001b[0m",
            "\u001b[0;31mIndexError\u001b[0m                                Traceback (most recent call last)",
            "\u001b[0;32m<ipython-input-5-1f8f73eb9586>\u001b[0m in \u001b[0;36m<module>\u001b[0;34m()\u001b[0m\n\u001b[1;32m      1\u001b[0m \u001b[0mindex\u001b[0m \u001b[0;34m=\u001b[0m \u001b[0;36m0\u001b[0m\u001b[0;34m\u001b[0m\u001b[0;34m\u001b[0m\u001b[0m\n\u001b[1;32m      2\u001b[0m \u001b[0;32mfor\u001b[0m \u001b[0mvalues\u001b[0m \u001b[0;32min\u001b[0m \u001b[0mnD_raw\u001b[0m\u001b[0;34m:\u001b[0m\u001b[0;34m\u001b[0m\u001b[0;34m\u001b[0m\u001b[0m\n\u001b[0;32m----> 3\u001b[0;31m   \u001b[0mcorrige_0\u001b[0m \u001b[0;34m=\u001b[0m \u001b[0mvalues\u001b[0m\u001b[0;34m[\u001b[0m\u001b[0;36m0\u001b[0m\u001b[0;34m]\u001b[0m \u001b[0;34m+\u001b[0m \u001b[0;36m0.00045\u001b[0m\u001b[0;34m*\u001b[0m\u001b[0;34m(\u001b[0m\u001b[0;34m(\u001b[0m\u001b[0mtemp\u001b[0m\u001b[0;34m[\u001b[0m\u001b[0mindex\u001b[0m\u001b[0;34m]\u001b[0m\u001b[0;34m)\u001b[0m\u001b[0;34m[\u001b[0m\u001b[0;36m0\u001b[0m\u001b[0;34m]\u001b[0m\u001b[0;34m-\u001b[0m \u001b[0;36m20\u001b[0m\u001b[0;34m)\u001b[0m\u001b[0;34m\u001b[0m\u001b[0;34m\u001b[0m\u001b[0m\n\u001b[0m\u001b[1;32m      4\u001b[0m   \u001b[0mcorrige_1\u001b[0m \u001b[0;34m=\u001b[0m \u001b[0mvalues\u001b[0m\u001b[0;34m[\u001b[0m\u001b[0;36m1\u001b[0m\u001b[0;34m]\u001b[0m \u001b[0;34m+\u001b[0m \u001b[0;36m0.00045\u001b[0m\u001b[0;34m*\u001b[0m\u001b[0;34m(\u001b[0m\u001b[0;34m(\u001b[0m\u001b[0mtemp\u001b[0m\u001b[0;34m[\u001b[0m\u001b[0mindex\u001b[0m\u001b[0;34m]\u001b[0m\u001b[0;34m)\u001b[0m\u001b[0;34m[\u001b[0m\u001b[0;36m1\u001b[0m\u001b[0;34m]\u001b[0m\u001b[0;34m-\u001b[0m \u001b[0;36m20\u001b[0m\u001b[0;34m)\u001b[0m\u001b[0;34m\u001b[0m\u001b[0;34m\u001b[0m\u001b[0m\n\u001b[1;32m      5\u001b[0m   \u001b[0mnD_corrige\u001b[0m\u001b[0;34m.\u001b[0m\u001b[0mappend\u001b[0m\u001b[0;34m(\u001b[0m\u001b[0;34m[\u001b[0m\u001b[0mcorrige_0\u001b[0m\u001b[0;34m,\u001b[0m \u001b[0mcorrige_1\u001b[0m\u001b[0;34m]\u001b[0m\u001b[0;34m)\u001b[0m\u001b[0;34m\u001b[0m\u001b[0;34m\u001b[0m\u001b[0m\n",
            "\u001b[0;31mIndexError\u001b[0m: list index out of range"
          ]
        }
      ]
    },
    {
      "cell_type": "code",
      "metadata": {
        "id": "WQlXsQLlCoV5",
        "colab_type": "code",
        "colab": {}
      },
      "source": [
        "nD_corrige"
      ],
      "execution_count": 0,
      "outputs": []
    },
    {
      "cell_type": "markdown",
      "metadata": {
        "id": "kVVk_3NnAYut",
        "colab_type": "text"
      },
      "source": [
        "## Moyenne pour chacun des pourcentages volumiques"
      ]
    },
    {
      "cell_type": "code",
      "metadata": {
        "id": "LRfy4iaQA9ni",
        "colab_type": "code",
        "colab": {}
      },
      "source": [
        "nD_moy = []"
      ],
      "execution_count": 0,
      "outputs": []
    },
    {
      "cell_type": "code",
      "metadata": {
        "id": "MTb7JRRUAhSu",
        "colab_type": "code",
        "colab": {}
      },
      "source": [
        "for values in nD_corrige:\n",
        "  moyenne = (values[0]+values[1])/2\n",
        "  nD_moy.append(moyenne)\n",
        "nD_moy"
      ],
      "execution_count": 0,
      "outputs": []
    },
    {
      "cell_type": "markdown",
      "metadata": {
        "id": "SDxkHN9Gkn9A",
        "colab_type": "text"
      },
      "source": [
        "## Graphique de l'indice de réfraction"
      ]
    },
    {
      "cell_type": "markdown",
      "metadata": {
        "id": "SGMVop2clHuL",
        "colab_type": "text"
      },
      "source": [
        "### Donnés"
      ]
    },
    {
      "cell_type": "code",
      "metadata": {
        "id": "YXDlExqjC9em",
        "colab_type": "code",
        "colab": {}
      },
      "source": [
        "x = np.array(volume_pourcent)\n",
        "y = np.array(nD_moy)"
      ],
      "execution_count": 0,
      "outputs": []
    },
    {
      "cell_type": "markdown",
      "metadata": {
        "id": "pTGVYuARljWE",
        "colab_type": "text"
      },
      "source": [
        "### Equation de la droite"
      ]
    },
    {
      "cell_type": "code",
      "metadata": {
        "id": "CpkNVWEPlrx6",
        "colab_type": "code",
        "colab": {}
      },
      "source": [
        "(slope, intercept, rvalue, pvalue, stderr) = linregress(x,y)"
      ],
      "execution_count": 0,
      "outputs": []
    },
    {
      "cell_type": "code",
      "metadata": {
        "id": "HaNtP7LAmBAw",
        "colab_type": "code",
        "colab": {}
      },
      "source": [
        "slope, intercept, stderr, rvalue"
      ],
      "execution_count": 0,
      "outputs": []
    },
    {
      "cell_type": "markdown",
      "metadata": {
        "id": "eagOGJ8KpBKb",
        "colab_type": "text"
      },
      "source": [
        "### Donnés utiles aux calculs"
      ]
    },
    {
      "cell_type": "code",
      "metadata": {
        "id": "X-qELAJrpETk",
        "colab_type": "code",
        "colab": {}
      },
      "source": [
        "a_refraction = slope\n",
        "b_refraction = intercept\n",
        "delta_a_refraction = stderr"
      ],
      "execution_count": 0,
      "outputs": []
    },
    {
      "cell_type": "markdown",
      "metadata": {
        "id": "kDvOh4fqmOkk",
        "colab_type": "text"
      },
      "source": [
        "Incertitude sur l'intercept (provient de excel)"
      ]
    },
    {
      "cell_type": "code",
      "metadata": {
        "id": "Tyyek3IpmYq6",
        "colab_type": "code",
        "colab": {}
      },
      "source": [
        "delta_b_refraction = 9.1849e-4"
      ],
      "execution_count": 0,
      "outputs": []
    },
    {
      "cell_type": "markdown",
      "metadata": {
        "id": "EycPihBImir9",
        "colab_type": "text"
      },
      "source": [
        "### Graphique"
      ]
    },
    {
      "cell_type": "code",
      "metadata": {
        "id": "P7lFQBznml7S",
        "colab_type": "code",
        "colab": {}
      },
      "source": [
        "plt.style.use('ggplot')\n",
        "plt.scatter(x,y)\n",
        "plt.plot(x, (x*slope+intercept))\n",
        "print (\"Indice de réfraction = %.6fx+(%.6f)\"%(slope, intercept))"
      ],
      "execution_count": 0,
      "outputs": []
    },
    {
      "cell_type": "markdown",
      "metadata": {
        "id": "krcHuTj9mpeB",
        "colab_type": "text"
      },
      "source": [
        "## Calculs à partir de l'indice de réfraction"
      ]
    },
    {
      "cell_type": "markdown",
      "metadata": {
        "id": "N3WP4kYEo6cZ",
        "colab_type": "text"
      },
      "source": [
        "Détermination du pourcentage d'alcool dans la bière par la méthode de l'indice de réfraction:\n",
        "\n",
        "%v/v = (indice -b)/m\n"
      ]
    },
    {
      "cell_type": "markdown",
      "metadata": {
        "id": "6LL1WL61tyBc",
        "colab_type": "text"
      },
      "source": [
        "Il faut corriger à 20 degrés l'indice de réfraction"
      ]
    },
    {
      "cell_type": "code",
      "metadata": {
        "id": "-lwE7Oljt6jm",
        "colab_type": "code",
        "colab": {}
      },
      "source": [
        "indice_echantillon_corrige = indice_echantillon+.00045*(22.2 - 20)\n",
        "indice_echantillon_corrige"
      ],
      "execution_count": 0,
      "outputs": []
    },
    {
      "cell_type": "code",
      "metadata": {
        "id": "y7JSEwmHqGF6",
        "colab_type": "code",
        "colab": {}
      },
      "source": [
        "taux_refraction = (indice_echantillon_corrige-b_refraction)/a_refraction\n",
        "taux_refraction"
      ],
      "execution_count": 0,
      "outputs": []
    },
    {
      "cell_type": "markdown",
      "metadata": {
        "id": "v3ks8dy2ub1R",
        "colab_type": "text"
      },
      "source": [
        "### Incertitudes sur le calcul de l'indice de réfraction"
      ]
    },
    {
      "cell_type": "code",
      "metadata": {
        "id": "1lLXmGz7uuDJ",
        "colab_type": "code",
        "colab": {}
      },
      "source": [
        "delta_taux_refraction = ((delta_refractometre+delta_b_refraction)/(indice_echantillon_corrige-b_refraction)+(delta_a_refraction/a_refraction))*taux_refraction\n",
        "delta_taux_refraction"
      ],
      "execution_count": 0,
      "outputs": []
    },
    {
      "cell_type": "code",
      "metadata": {
        "id": "vCC-Hkaz8t_1",
        "colab_type": "code",
        "colab": {}
      },
      "source": [
        "b_refraction, indice_echantillon_corrige"
      ],
      "execution_count": 0,
      "outputs": []
    },
    {
      "cell_type": "markdown",
      "metadata": {
        "id": "856v8WHyLw37",
        "colab_type": "text"
      },
      "source": [
        "# Masse volumique"
      ]
    },
    {
      "cell_type": "markdown",
      "metadata": {
        "id": "9S8hAFYwM4_j",
        "colab_type": "text"
      },
      "source": [
        "## Donnes"
      ]
    },
    {
      "cell_type": "code",
      "metadata": {
        "id": "TR43sKXmPe-W",
        "colab_type": "code",
        "colab": {}
      },
      "source": [
        "x = pourcentages_volumiques\n",
        "y = masses_volumiques"
      ],
      "execution_count": 0,
      "outputs": []
    },
    {
      "cell_type": "markdown",
      "metadata": {
        "id": "JG61OiNOQLNC",
        "colab_type": "text"
      },
      "source": [
        "## Calcul de la masse volumique"
      ]
    },
    {
      "cell_type": "markdown",
      "metadata": {
        "id": "FEhF-iecFV-x",
        "colab_type": "text"
      },
      "source": [
        "### Volume du pycnomètre"
      ]
    },
    {
      "cell_type": "code",
      "metadata": {
        "id": "-rVrA6mcQdZk",
        "colab_type": "code",
        "colab": {}
      },
      "source": [
        "volume_pycno = (masse_pycno_eau-masse_pycno)/masseVolumique_eau\n",
        "delta_volume_pycno = ((delta_balance*2)/(masse_pycno_eau-masse_pycno)+(delta_masseVolumique_eau/masseVolumique_eau))*volume_pycno"
      ],
      "execution_count": 0,
      "outputs": []
    },
    {
      "cell_type": "code",
      "metadata": {
        "id": "YqQxgDKBFEwV",
        "colab_type": "code",
        "colab": {}
      },
      "source": [
        "volume_pycno, delta_volume_pycno"
      ],
      "execution_count": 0,
      "outputs": []
    },
    {
      "cell_type": "markdown",
      "metadata": {
        "id": "5_wTCtqmFaq5",
        "colab_type": "text"
      },
      "source": [
        "## Masse volumique de l'échantillon"
      ]
    },
    {
      "cell_type": "code",
      "metadata": {
        "id": "6w1WpYiCFiXq",
        "colab_type": "code",
        "colab": {}
      },
      "source": [
        "masseVolumique_echantillon = (masse_pycno_ethanol - masse_pycno)/volume_pycno\n",
        "delta_masseVolumique_echantillon = ((delta_balance*2)/(masse_pycno_ethanol-masse_pycno)+(delta_volume_pycno/volume_pycno))*masseVolumique_echantillon"
      ],
      "execution_count": 0,
      "outputs": []
    },
    {
      "cell_type": "code",
      "metadata": {
        "id": "2v4n_W3ZGwoG",
        "colab_type": "code",
        "colab": {}
      },
      "source": [
        "masseVolumique_echantillon, delta_masseVolumique_echantillon"
      ],
      "execution_count": 0,
      "outputs": []
    },
    {
      "cell_type": "markdown",
      "metadata": {
        "id": "pBUdKldBMsxW",
        "colab_type": "text"
      },
      "source": [
        "## Graphique pour la masse volumique"
      ]
    },
    {
      "cell_type": "markdown",
      "metadata": {
        "id": "_BhPqvzBNBRf",
        "colab_type": "text"
      },
      "source": [
        "### Calcul de la pente du graphique"
      ]
    },
    {
      "cell_type": "code",
      "metadata": {
        "id": "ZjKkpo9QNXqt",
        "colab_type": "code",
        "colab": {}
      },
      "source": [
        "(slope, intercept, rvalue, pvalue, stderr) = linregress(x, y)"
      ],
      "execution_count": 0,
      "outputs": []
    },
    {
      "cell_type": "code",
      "metadata": {
        "id": "kNrn-y3pNyXJ",
        "colab_type": "code",
        "colab": {}
      },
      "source": [
        "slope, intercept, stderr"
      ],
      "execution_count": 0,
      "outputs": []
    },
    {
      "cell_type": "markdown",
      "metadata": {
        "id": "Pob6BCQrNyqA",
        "colab_type": "text"
      },
      "source": [
        "### Donnes utiles aux calculs"
      ]
    },
    {
      "cell_type": "code",
      "metadata": {
        "id": "iD_1uadrN3jb",
        "colab_type": "code",
        "colab": {}
      },
      "source": [
        "a_masseVolumique = slope\n",
        "b_masseVolumique = intercept"
      ],
      "execution_count": 0,
      "outputs": []
    },
    {
      "cell_type": "code",
      "metadata": {
        "id": "G4PdvAbUN-IN",
        "colab_type": "code",
        "colab": {}
      },
      "source": [
        "delta_a_masseVolumique = stderr"
      ],
      "execution_count": 0,
      "outputs": []
    },
    {
      "cell_type": "markdown",
      "metadata": {
        "id": "oHhShMp-OJru",
        "colab_type": "text"
      },
      "source": [
        "Cette valeur provient de excel"
      ]
    },
    {
      "cell_type": "code",
      "metadata": {
        "id": "X8G26JdqOQku",
        "colab_type": "code",
        "colab": {}
      },
      "source": [
        "delta_b_masseVolumique = .00013"
      ],
      "execution_count": 0,
      "outputs": []
    },
    {
      "cell_type": "markdown",
      "metadata": {
        "id": "KTsFfh3gORGt",
        "colab_type": "text"
      },
      "source": [
        "### Graphique"
      ]
    },
    {
      "cell_type": "code",
      "metadata": {
        "id": "-DUl-XqCOU8G",
        "colab_type": "code",
        "outputId": "aae0b03f-c7ab-4e58-83e8-fbb5664c8455",
        "colab": {
          "base_uri": "https://localhost:8080/",
          "height": 218
        }
      },
      "source": [
        "plt.scatter(x,y)\n",
        "plt.plot(pourcentages_volumiques, (x*slope+intercept))\n",
        "print (\"Indice de réfraction = %.6fx+(%.6f)\"%(slope, intercept))"
      ],
      "execution_count": 0,
      "outputs": [
        {
          "output_type": "error",
          "ename": "NameError",
          "evalue": "ignored",
          "traceback": [
            "\u001b[0;31m---------------------------------------------------------------------------\u001b[0m",
            "\u001b[0;31mNameError\u001b[0m                                 Traceback (most recent call last)",
            "\u001b[0;32m<ipython-input-6-197d6886f9ee>\u001b[0m in \u001b[0;36m<module>\u001b[0;34m()\u001b[0m\n\u001b[0;32m----> 1\u001b[0;31m \u001b[0mplt\u001b[0m\u001b[0;34m.\u001b[0m\u001b[0mscatter\u001b[0m\u001b[0;34m(\u001b[0m\u001b[0mx\u001b[0m\u001b[0;34m,\u001b[0m\u001b[0my\u001b[0m\u001b[0;34m)\u001b[0m\u001b[0;34m\u001b[0m\u001b[0;34m\u001b[0m\u001b[0m\n\u001b[0m\u001b[1;32m      2\u001b[0m \u001b[0mplt\u001b[0m\u001b[0;34m.\u001b[0m\u001b[0mplot\u001b[0m\u001b[0;34m(\u001b[0m\u001b[0mpourcentages_volumiques\u001b[0m\u001b[0;34m,\u001b[0m \u001b[0;34m(\u001b[0m\u001b[0mx\u001b[0m\u001b[0;34m*\u001b[0m\u001b[0mslope\u001b[0m\u001b[0;34m+\u001b[0m\u001b[0mintercept\u001b[0m\u001b[0;34m)\u001b[0m\u001b[0;34m)\u001b[0m\u001b[0;34m\u001b[0m\u001b[0;34m\u001b[0m\u001b[0m\n\u001b[1;32m      3\u001b[0m \u001b[0mprint\u001b[0m \u001b[0;34m(\u001b[0m\u001b[0;34m\"Indice de réfraction = %.6fx+(%.6f)\"\u001b[0m\u001b[0;34m%\u001b[0m\u001b[0;34m(\u001b[0m\u001b[0mslope\u001b[0m\u001b[0;34m,\u001b[0m \u001b[0mintercept\u001b[0m\u001b[0;34m)\u001b[0m\u001b[0;34m)\u001b[0m\u001b[0;34m\u001b[0m\u001b[0;34m\u001b[0m\u001b[0m\n",
            "\u001b[0;31mNameError\u001b[0m: name 'x' is not defined"
          ]
        }
      ]
    },
    {
      "cell_type": "markdown",
      "metadata": {
        "id": "Zkc9zknpOfqy",
        "colab_type": "text"
      },
      "source": [
        "##Calculs du pourcentage volumique d'alcool par rapport à la masse volumique"
      ]
    },
    {
      "cell_type": "code",
      "metadata": {
        "id": "uKyyOJlWP8XJ",
        "colab_type": "code",
        "colab": {}
      },
      "source": [
        "taux_masseVolumique = (masseVolumique_echantillon-b_masseVolumique)/a_masseVolumique\n",
        "taux_masseVolumique"
      ],
      "execution_count": 0,
      "outputs": []
    },
    {
      "cell_type": "code",
      "metadata": {
        "id": "zqi6M-cHH869",
        "colab_type": "code",
        "colab": {}
      },
      "source": [
        "delta_taux_masseVolumique = ((delta_b_masseVolumique+delta_masseVolumique_echantillon)/(b_masseVolumique-masseVolumique_echantillon)+(delta_a_masseVolumique/a_masseVolumique))*taux_masseVolumique\n",
        "delta_taux_masseVolumique"
      ],
      "execution_count": 0,
      "outputs": []
    }
  ]
}